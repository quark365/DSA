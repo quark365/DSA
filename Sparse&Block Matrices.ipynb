{
  "cells": [
    {
      "cell_type": "markdown",
      "metadata": {
        "id": "ze76fgb13xHq"
      },
      "source": [
        "## Sparse Matrix Representation"
      ]
    },
    {
      "cell_type": "markdown",
      "metadata": {
        "id": "jtTFBKPCs0Ln"
      },
      "source": [
        "### Tools"
      ]
    },
    {
      "cell_type": "code",
      "execution_count": null,
      "metadata": {
        "id": "I2YDMnE2q83a"
      },
      "outputs": [],
      "source": [
        "def is_sparse(matrix):\n",
        "    if matrix is None or not any(matrix):\n",
        "        return True\n",
        "    if isinstance(matrix, list):\n",
        "        z = sum(1 for i in matrix if i == 0 or (isinstance(i, list) and 0 in i))\n",
        "        nz = sum(1 for i in matrix if i != 0 and (not isinstance(i, list) or 0 not in i))\n",
        "        if z > nz:\n",
        "            if all(isinstance(row, (int, float))for row in matrix):\n",
        "                return True\n",
        "            else:\n",
        "                if all(isinstance(row, list) for row in matrix):\n",
        "                    num_cols = len(matrix[0])\n",
        "                    if all(len(row) == num_cols for row in matrix):\n",
        "                        return True\n",
        "    return False\n",
        "\n",
        "def Scan(T, name=''):\n",
        "    i = T.__name__\n",
        "    while True:\n",
        "        exp = input(f'Enter {i} {name}: ')\n",
        "        if not exp.strip():\n",
        "            return None\n",
        "        try:\n",
        "            l = eval(exp)\n",
        "            if is_sparse(l):\n",
        "                return SparseMatrix(l)\n",
        "            print(f\"{i} is required.\")\n",
        "        except Exception as e:\n",
        "            print(\"Error:\", e)"
      ]
    },
    {
      "cell_type": "markdown",
      "metadata": {
        "id": "jn41lA3Es9bK"
      },
      "source": [
        "### Questions"
      ]
    },
    {
      "cell_type": "markdown",
      "metadata": {
        "id": "6JwSF9zgabM6"
      },
      "source": [
        "1. Implement a class to represent a sparse matrix using coordinate list representation\n",
        "\n",
        "  (a)Initialize a sparse matrix with a given number of rows and columns.\n",
        "\n",
        "  (b)Insert elements into the sparse matrix.\n",
        "\n",
        "  (c )Display the sparse matrix.\n",
        "\n"
      ]
    },
    {
      "cell_type": "code",
      "execution_count": null,
      "metadata": {
        "id": "1IC734WjPi9U"
      },
      "outputs": [],
      "source": [
        "import numpy as np\n",
        "\n",
        "class SparseMatrix:\n",
        "    def __init__(self, rows, cols, matrix = None):\n",
        "        self.rows, self.cols = rows, cols\n",
        "        if matrix is None or not any(matrix):\n",
        "            self.data = [(rows, cols, 0)]\n",
        "        else:\n",
        "            self.data = [(i, j, matrix[i-1][j-1]) for i in range(1, self.rows+1) for j in range(1, self.cols+1) if matrix[i-1][j-1] != 0]\n",
        "            self.data = [(rows, cols, len(self.data))] + self.data\n",
        "\n",
        "    def __str__(self):\n",
        "        m = [max(len(str(x[i])) for x in self.data) for i in range(3)]\n",
        "        rows = ['[{:>{}}  {:>{}}  {:>{}}]'.format(i[0], m[0], i[1], m[1], i[2], m[2]) for i in self.data]\n",
        "        s = '[' + '\\n '.join(rows) + ']'\n",
        "        return s\n",
        "\n",
        "    def __iter__(self):\n",
        "        return iter(self.data)"
      ]
    },
    {
      "cell_type": "code",
      "execution_count": null,
      "metadata": {
        "colab": {
          "base_uri": "https://localhost:8080/"
        },
        "id": "wPYLehSILCL4",
        "outputId": "77632dc9-4797-4c47-d729-bc244d332ad5"
      },
      "outputs": [
        {
          "name": "stdout",
          "output_type": "stream",
          "text": [
            "Rows = 5\n",
            "Columns = 6\n",
            "Enter values for matrix A:\n",
            "A[1][1]: 0\n",
            "A[1][2]: 0\n",
            "A[1][3]: 0\n",
            "A[1][4]: 6\n",
            "A[1][5]: 0\n",
            "A[1][6]: 0\n",
            "A[2][1]: 0\n",
            "A[2][2]: 7\n",
            "A[2][3]: 0\n",
            "A[2][4]: 0\n",
            "A[2][5]: 0\n",
            "A[2][6]: 0\n",
            "A[3][1]: 0\n",
            "A[3][2]: 2\n",
            "A[3][3]: 0\n",
            "A[3][4]: 5\n",
            "A[3][5]: 0\n",
            "A[3][6]: 0\n",
            "A[4][1]: 0\n",
            "A[4][2]: 0\n",
            "A[4][3]: 0\n",
            "A[4][4]: 0\n",
            "A[4][5]: 0\n",
            "A[4][6]: 0\n",
            "A[5][1]: 4\n",
            "A[5][2]: 0\n",
            "A[5][3]: 0\n",
            "A[5][4]: 0\n",
            "A[5][5]: 0\n",
            "A[5][6]: 0\n",
            "\n",
            "[[5  6  5]\n",
            " [1  4  6]\n",
            " [2  2  7]\n",
            " [3  2  2]\n",
            " [3  4  5]\n",
            " [5  1  4]]\n",
            "\n"
          ]
        }
      ],
      "source": [
        "rows = int(input(\"Rows = \"))\n",
        "cols = int(input(\"Columns = \"))\n",
        "\n",
        "print(f\"Enter values for matrix {'A'}:\")\n",
        "matrix = [[float(input(f\"{'A'}[{i}][{j}]: \")) for j in range(1, cols+1)] for i in range(1, rows+1)]\n",
        "matrix = [[int(x) if x.is_integer() else x for x in i] for i in matrix]\n",
        "\n",
        "A = SparseMatrix(rows, cols, matrix)\n",
        "print()\n",
        "print(A)"
      ]
    },
    {
      "cell_type": "code",
      "execution_count": null,
      "metadata": {
        "colab": {
          "base_uri": "https://localhost:8080/"
        },
        "id": "54gq9Sf-wShF",
        "outputId": "15b1474c-5da0-44a6-bb99-4b1445f60d25"
      },
      "outputs": [
        {
          "name": "stdout",
          "output_type": "stream",
          "text": [
            "Rows = 5\n",
            "Columns = 6\n",
            "Enter the matrix elements row-wise:\n",
            "0 0 0 6 0 0\n",
            "0 7 0 0 0 0\n",
            "0 2 0 5 0 0\n",
            "0 0 0 0 0 0\n",
            "4 0 0 0 0 0\n",
            "\n",
            "[[5  6  5]\n",
            " [1  4  6]\n",
            " [2  2  7]\n",
            " [3  2  2]\n",
            " [3  4  5]\n",
            " [5  1  4]]\n"
          ]
        }
      ],
      "source": [
        "rows = int(input(\"Rows = \"))\n",
        "cols = int(input(\"Columns = \"))\n",
        "print(\"Enter the matrix elements row-wise:\")\n",
        "\n",
        "matrix = [list(map(int, input().split())) for i in range(rows)]\n",
        "A = SparseMatrix(rows, cols, matrix)\n",
        "print()\n",
        "print(A)"
      ]
    },
    {
      "cell_type": "markdown",
      "metadata": {
        "id": "6uckofK8ah-7"
      },
      "source": [
        "2. Write a function to add two sparse matrices and return the resulting sparse matrix. Ensure that the matrices being added are compatible for addition.\n"
      ]
    },
    {
      "cell_type": "code",
      "execution_count": null,
      "metadata": {
        "id": "cP1suT-aX4Qp"
      },
      "outputs": [],
      "source": [
        "class SparseMatrix:\n",
        "    def __init__(self, matrix = None, data = None):\n",
        "        if data is None:\n",
        "            if matrix is None or not any(matrix):\n",
        "                self.data = [(0, 0, 0)]\n",
        "            else:\n",
        "                try:\n",
        "                    rows = len(matrix)\n",
        "                    cols = len(matrix[0])\n",
        "                    self.data = [(i, j, matrix[i - 1][j - 1]) for i in range(1, rows + 1) for j in range(1, cols + 1)\n",
        "                                if matrix[i - 1][j - 1] != 0]\n",
        "                except:\n",
        "                    rows = 1\n",
        "                    cols = len(matrix)\n",
        "                    self.data = [(1, i, matrix[i - 1]) for i in range(1, cols + 1) if matrix[i - 1] != 0]\n",
        "\n",
        "                self.data = [(rows, cols, len(self.data))] + self.data\n",
        "        else:\n",
        "            self.data = data\n",
        "\n",
        "    def __str__(self):\n",
        "        m = [max(len(str(x[i])) for x in self.data) for i in range(3)]\n",
        "        rows = ['[{:>{}}  {:>{}}  {:>{}}]'.format(i[0], m[0], i[1], m[1], i[2], m[2]) for i in self.data]\n",
        "        s = '[' + '\\n '.join(rows) + ']'\n",
        "        return s\n",
        "\n",
        "    def __iter__(self):\n",
        "        return iter(self.data)\n",
        "\n",
        "    def add(self, other):\n",
        "        if self.data[0][:2] != other.data[0][:2]:\n",
        "            raise ValueError(\"Matrices must have the same dimensions for addition.\")\n",
        "\n",
        "        result = (self.data).copy()\n",
        "        for i in range(1, len(other.data)):\n",
        "            for j in range(1, len(result)):\n",
        "                if other.data[i][:2] == result[j][:2]:\n",
        "                    result[j] = result[j][:2] + (result[j][2]+other.data[i][2],)\n",
        "                    break\n",
        "            else:\n",
        "                result.append(other.data[i])\n",
        "        result[0] = result[0][:-1]+(len(result)-1,)\n",
        "        result = [result[0]] + sorted(result[1:])\n",
        "        return SparseMatrix(data = result)"
      ]
    },
    {
      "cell_type": "code",
      "execution_count": null,
      "metadata": {
        "colab": {
          "base_uri": "https://localhost:8080/"
        },
        "id": "vdsCwQQZOs89",
        "outputId": "b6ae9a59-1f5f-4243-8594-3e5c5a3ccbd4"
      },
      "outputs": [
        {
          "name": "stdout",
          "output_type": "stream",
          "text": [
            "Enter SparseMatrix A: [[0,0,0],[1,2,0]]\n",
            "Sparse Matrix A:\n",
            "[[2  3  2]\n",
            " [2  1  1]\n",
            " [2  2  2]]\n",
            "\n",
            "Enter SparseMatrix B: [[0,3,0],[9,0,0]]\n",
            "Sparse Matrix B:\n",
            "[[2  3  2]\n",
            " [1  2  3]\n",
            " [2  1  9]]\n",
            "\n",
            "Sum of 2 matrices:\n",
            "[[2  3   3]\n",
            " [1  2   3]\n",
            " [2  1  10]\n",
            " [2  2   2]]\n"
          ]
        }
      ],
      "source": [
        "A = Scan(SparseMatrix, 'A')\n",
        "print(\"Sparse Matrix A:\")\n",
        "print(A)\n",
        "print()\n",
        "\n",
        "B = Scan(SparseMatrix, 'B')\n",
        "print(\"Sparse Matrix B:\")\n",
        "print(B)\n",
        "print()\n",
        "\n",
        "try:\n",
        "    result = A.add(B)\n",
        "    print(\"Sum of 2 matrices:\")\n",
        "    print(result)\n",
        "except ValueError as e:\n",
        "    print(\"Error during addition:\", e)\n"
      ]
    },
    {
      "cell_type": "markdown",
      "metadata": {
        "id": "ESunwPBMak-4"
      },
      "source": [
        "\n",
        "3. Implement a function to find and display the transpose of a given sparse matrix.\n"
      ]
    },
    {
      "cell_type": "code",
      "execution_count": null,
      "metadata": {
        "id": "34fyAQMDampa"
      },
      "outputs": [],
      "source": [
        "class SparseMatrix:\n",
        "    def __init__(self, matrix=None, data = None):\n",
        "        if data is None:\n",
        "            if matrix is None or not any(matrix):\n",
        "                self.data = [(0, 0, 0)]\n",
        "                self.rows = self.cols = 0\n",
        "            else:\n",
        "                try:\n",
        "                    self.rows = len(matrix)\n",
        "                    self.cols = len(matrix[0])\n",
        "                    self.data = [(i, j, matrix[i - 1][j - 1]) for i in range(1, self.rows + 1) for j in range(1, self.cols + 1)\n",
        "                                if matrix[i - 1][j - 1] != 0]\n",
        "                except:\n",
        "                    self.rows = 1\n",
        "                    self.cols = len(matrix)\n",
        "                    self.data = [(1, i, matrix[i - 1]) for i in range(1, self.cols + 1) if matrix[i - 1] != 0]\n",
        "\n",
        "                self.data = [(self.rows, self.cols, len(self.data))] + self.data\n",
        "        else:\n",
        "            self.data = data\n",
        "\n",
        "    def __str__(self):\n",
        "        m = [max(len(str(x[i])) for x in self.data) for i in range(3)]\n",
        "        rows = ['[{:>{}}  {:>{}}  {:>{}}]'.format(i[0], m[0], i[1], m[1], i[2], m[2]) for i in self.data]\n",
        "        s = '[' + '\\n '.join(rows) + ']'\n",
        "        return s\n",
        "\n",
        "    def __iter__(self):\n",
        "        return iter(self.data)\n",
        "\n",
        "    def transpose(self):\n",
        "        transposed_data = [(col, row, value) for row, col, value in self.data]\n",
        "        transposed_data = [transposed_data[0]] + sorted(transposed_data[1:])\n",
        "        return SparseMatrix(data = transposed_data)\n"
      ]
    },
    {
      "cell_type": "code",
      "execution_count": null,
      "metadata": {
        "colab": {
          "base_uri": "https://localhost:8080/"
        },
        "id": "hUxNLbZ7T9VT",
        "outputId": "219316e1-c049-42f5-9a1b-532bd31574e0"
      },
      "outputs": [
        {
          "name": "stdout",
          "output_type": "stream",
          "text": [
            "Enter SparseMatrix A: [[1,23],[0,0],[0,1]]\n",
            "Sparse Matrix A:\n",
            "[[3  2   3]\n",
            " [1  1   1]\n",
            " [1  2  23]\n",
            " [3  2   1]]\n",
            "\n",
            "Transpose of Matrix A:\n",
            "[[2  3   3]\n",
            " [1  1   1]\n",
            " [2  1  23]\n",
            " [2  3   1]]\n"
          ]
        }
      ],
      "source": [
        "A = Scan(SparseMatrix, 'A')\n",
        "print(\"Sparse Matrix A:\")\n",
        "print(A)\n",
        "print()\n",
        "B = A.transpose()\n",
        "print(\"Transpose of Matrix A:\")\n",
        "print(B)"
      ]
    },
    {
      "cell_type": "markdown",
      "metadata": {
        "id": "njU1Ez4Uam-h"
      },
      "source": [
        "\n",
        "4. Write a function to find the inverse of a sparse matrix if it is invertible"
      ]
    },
    {
      "cell_type": "code",
      "execution_count": null,
      "metadata": {
        "id": "w1hz8HVoy2kv"
      },
      "outputs": [],
      "source": [
        "class SparseMatrix:\n",
        "    def __init__(self, matrix=None, data = None):\n",
        "        if data is None:\n",
        "            if matrix is None or not any(matrix):\n",
        "                self.data = [(0, 0, 0)]\n",
        "                self.rows = self.cols = 0\n",
        "            else:\n",
        "                try:\n",
        "                    self.rows = len(matrix)\n",
        "                    self.cols = len(matrix[0])\n",
        "                    self.data = [(i, j, matrix[i - 1][j - 1]) for i in range(1, self.rows + 1) for j in range(1, self.cols + 1)\n",
        "                                if matrix[i - 1][j - 1] != 0]\n",
        "                except:\n",
        "                    self.rows = 1\n",
        "                    self.cols = len(matrix)\n",
        "                    self.data = [(1, i, matrix[i - 1]) for i in range(1, self.cols + 1) if matrix[i - 1] != 0]\n",
        "\n",
        "                self.data = [(self.rows, self.cols, len(self.data))] + self.data\n",
        "        else:\n",
        "            self.data = data\n",
        "\n",
        "    def __str__(self):\n",
        "        m = [max(len(str(x[i])) for x in self.data) for i in range(3)]\n",
        "        rows = ['[{:>{}}  {:>{}}  {:>{}}]'.format(i[0], m[0], i[1], m[1], i[2], m[2]) for i in self.data]\n",
        "        s = '[' + '\\n '.join(rows) + ']'\n",
        "        return s\n",
        "\n",
        "    def __iter__(self):\n",
        "        return iter(self.data)\n",
        "\n",
        "    def inv(self):\n",
        "        A = [[0 for i in range(self.data[0][1])]for i in range(self.data[0][0])]\n",
        "        for i in self.data[1:]:\n",
        "            A[i[0]-1][i[1]-1] = i[2]\n",
        "        n = len(A)\n",
        "        identity = [[1 if i == j else 0 for j in range(n)] for i in range(n)]\n",
        "        for i in range(n):\n",
        "            A[i].extend(identity[i])\n",
        "\n",
        "        for i in range(n):\n",
        "            max_index = i\n",
        "            for j in range(i + 1, n):\n",
        "                if abs(A[j][i]) > abs(A[max_index][i]):\n",
        "                    max_index = j\n",
        "            A[i], A[max_index] = A[max_index], A[i]\n",
        "            pivot = A[i][i]\n",
        "            if pivot == 0:\n",
        "                # raise ValueError(\"Matrix is singular.\")\n",
        "                print('warning: matrix singular to machine precision')\n",
        "\n",
        "            for j in range(i, 2 * n):\n",
        "                A[i][j] /= pivot\n",
        "\n",
        "            for j in range(n):\n",
        "                if i != j:\n",
        "                    factor = A[j][i]\n",
        "                    for k in range(i, 2 * n):\n",
        "                        A[j][k] -= factor * A[i][k]\n",
        "\n",
        "        inverse = [row[n:] for row in A]\n",
        "\n",
        "        return inverse\n"
      ]
    },
    {
      "cell_type": "code",
      "execution_count": null,
      "metadata": {
        "colab": {
          "base_uri": "https://localhost:8080/"
        },
        "id": "ewGJNsKTzQGE",
        "outputId": "266db47b-a994-474b-930d-abcfc65c4375"
      },
      "outputs": [
        {
          "name": "stdout",
          "output_type": "stream",
          "text": [
            "Enter SparseMatrix A: [[0,1,0],[1,1,0],[0,0,2]]\n",
            "Sparse Matrix A:\n",
            "[[3  3  4]\n",
            " [1  2  1]\n",
            " [2  1  1]\n",
            " [2  2  1]\n",
            " [3  3  2]]\n",
            "\n",
            "Inverse A:\n",
            "[[3  3     4]\n",
            " [1  1  -1.0]\n",
            " [1  2   1.0]\n",
            " [2  1   1.0]\n",
            " [3  3   0.5]]\n"
          ]
        }
      ],
      "source": [
        "A = Scan(SparseMatrix, 'A')\n",
        "print(\"Sparse Matrix A:\")\n",
        "print(A)\n",
        "print()\n",
        "B = A.inv()\n",
        "\n",
        "print(\"Inverse A:\")\n",
        "\n",
        "if is_sparse(B):\n",
        "    B = SparseMatrix(B)\n",
        "    print(B)\n",
        "else:\n",
        "    m = [max(len(str(x[i])) for x in B) for i in range(3)]\n",
        "    rows = ['[{:>{}}  {:>{}}  {:>{}}]'.format(i[0], m[0], i[1], m[1], i[2], m[2]) for i in B]\n",
        "    s = '[' + '\\n '.join(rows) + ']'\n",
        "    print(s)"
      ]
    },
    {
      "cell_type": "markdown",
      "metadata": {
        "id": "TsFXJCtkapYa"
      },
      "source": [
        "## Block Matrix Representation"
      ]
    },
    {
      "cell_type": "markdown",
      "metadata": {
        "id": "Zg70VJ6xAH9-"
      },
      "source": [
        "### Tools"
      ]
    },
    {
      "cell_type": "code",
      "execution_count": null,
      "metadata": {
        "id": "ghHnh5LLOaVQ"
      },
      "outputs": [],
      "source": [
        "def is_matrix(obj):\n",
        "    if not isinstance(obj, list) or not any(obj):\n",
        "        return False\n",
        "\n",
        "    num_cols = None\n",
        "\n",
        "    for row in obj:\n",
        "        if not isinstance(row, list):\n",
        "            return False\n",
        "        if num_cols is None:\n",
        "            num_cols = len(row)\n",
        "        elif len(row) != num_cols:\n",
        "            return False\n",
        "        for element in row:\n",
        "            if not isinstance(element, (int, float)):\n",
        "                return False\n",
        "\n",
        "    return True\n",
        "\n",
        "def convert(matrix):\n",
        "    if isinstance(matrix, list) and len(matrix) > 0 and isinstance(matrix[0], list):\n",
        "        return matrix\n",
        "    else:\n",
        "        return [matrix]\n",
        "\n",
        "def Scan(name=''):\n",
        "    while True:\n",
        "        exp = input(name)\n",
        "        try:\n",
        "            l = eval(exp)\n",
        "            if is_matrix(convert(l)):\n",
        "                return l\n",
        "            print(f\"matrix is required.\")\n",
        "        except Exception as e:\n",
        "            print(\"Error:\", e)\n",
        "\n"
      ]
    },
    {
      "cell_type": "markdown",
      "metadata": {
        "id": "06EN6qflZg2w"
      },
      "source": [
        "### Questions"
      ]
    },
    {
      "cell_type": "markdown",
      "metadata": {
        "id": "-9lHcofbauWK"
      },
      "source": [
        "5. Implement a class to represent a block matrix. The matrix should be divided into square blocks.\n",
        "\n",
        "  (a)Initialize a block matrix with a given size and block size.\n",
        "\n",
        "  (b)Insert elements into the block matrix.\n",
        "\n",
        "  (c)Display the block matrix.\n",
        "\n"
      ]
    },
    {
      "cell_type": "code",
      "execution_count": null,
      "metadata": {
        "colab": {
          "base_uri": "https://localhost:8080/"
        },
        "id": "nbpbNBP_Vh8o",
        "outputId": "8d2cf27f-4e79-4258-e08f-eca5bce3a8a5"
      },
      "outputs": [
        {
          "name": "stdout",
          "output_type": "stream",
          "text": [
            "Matrix structure (having blocks as variables) = [[a,b],[c,d]]\n",
            "a = [[1,2],[3,4]]\n",
            "b = [[5,6],[7,8]]\n",
            "c = [[9,10],[11,12]]\n",
            "d = [[13,14],[15,16]]\n",
            "\n",
            "Matrix: \n",
            " 1  2  5  6\n",
            " 3  4  7  8\n",
            " 9 10 13 14\n",
            "11 12 15 16\n",
            "\n"
          ]
        }
      ],
      "source": [
        "import numpy as np\n",
        "\n",
        "class BlockMatrix:\n",
        "    def __init__(self,matrix):\n",
        "      matrix = np.vstack([np.hstack(x) for x in l])\n",
        "      self.data = [list(x) for x in matrix]\n",
        "\n",
        "    def __str__(self):\n",
        "        max_width = max(len(str(item)) for row in self.data for item in row)\n",
        "        matrix_str = ''\n",
        "        for row in self.data:\n",
        "            matrix_str += ' '.join(str(item).rjust(max_width) for item in row) + '\\n'\n",
        "        return matrix_str\n",
        "\n",
        "    def __iter__(self):\n",
        "        return iter(self.data)\n",
        "\n",
        "l = []\n",
        "var = {}\n",
        "v = input(\"Matrix structure (having blocks as variables) = \").replace(' ','')\n",
        "\n",
        "if v.count('[') == 1 and v.count(']') == 1:\n",
        "    v = f'[{v}]'\n",
        "\n",
        "w = v.replace(']','').replace('[','')\n",
        "\n",
        "\n",
        "k = [x + f'={Scan(f\"{x} = \")}' for x in w.split(',') if x.isidentifier()]+ ['l = ' + v]\n",
        "for i in k:\n",
        "  try:\n",
        "      exec(i, {}, var)\n",
        "  except Exception as e:\n",
        "      print(\"Error:\", e)\n",
        "\n",
        "for key, value in var.items():\n",
        "    globals()[key] = value\n",
        "\n",
        "try :\n",
        "  l = BlockMatrix(l)\n",
        "  print(\"\\nMatrix: \")\n",
        "  print(l)\n",
        "except :\n",
        "  print(\"\\nAll block matrix should be of same dimensions\")"
      ]
    },
    {
      "cell_type": "markdown",
      "metadata": {
        "id": "iC4kFRMTa36z"
      },
      "source": [
        "6.  Conformal Decomposition\n",
        "\n",
        "  Write a function to perform conformal decomposition on a given matrix. Decompose the matrix into a sum of matrices representing its diagonal and off-diagonal blocks.\n",
        "\n",
        "  Example:\n",
        "\n",
        "  Input Matrix:\n",
        "  \\begin{matrix}\n",
        "  1 & 2 & 3 \\\\\n",
        "  4 & 5 & 6 \\\\\n",
        "  7 & 8 & 9 \\\\\n",
        "  \\end{matrix}\n",
        "\n",
        "  Diagonal Blocks:\n",
        "\n",
        "  \\begin{matrix}\n",
        "  1 & 0 & 0 \\\\\n",
        "  0 & 5 & 0 \\\\\n",
        "  0 & 0 & 9 \\\\\n",
        "  \\end{matrix}\n",
        "\n",
        "  Off-diagonal Blocks:\n",
        "\n",
        "  \\begin{matrix}\n",
        "  0 & 2 & 3 \\\\\n",
        "  4 & 0 & 6 \\\\\n",
        "  7 & 8 & 0 \\\\\n",
        "  \\end{matrix}\n"
      ]
    },
    {
      "cell_type": "code",
      "execution_count": null,
      "metadata": {
        "colab": {
          "base_uri": "https://localhost:8080/"
        },
        "id": "77Lm8ALNw_U3",
        "outputId": "7c0bb46d-7936-414d-be0d-2b6b4aed32f8"
      },
      "outputs": [
        {
          "name": "stdout",
          "output_type": "stream",
          "text": [
            "Input Matrix:\n",
            "[1, 2, 3]\n",
            "[4, 5, 6]\n",
            "[7, 8, 9]\n",
            "\n",
            "Diagonal Blocks:\n",
            "[1, 0, 0]\n",
            "[0, 5, 0]\n",
            "[0, 0, 9]\n",
            "\n",
            "Off-diagonal Blocks:\n",
            "[0, 2, 3]\n",
            "[4, 0, 6]\n",
            "[7, 8, 0]\n"
          ]
        }
      ],
      "source": [
        "def conformal_decomposition(matrix):\n",
        "    rows = len(matrix)\n",
        "    cols = len(matrix[0])\n",
        "    n = min((rows,cols))\n",
        "\n",
        "    diag = [[matrix[i][j] if i == j else 0 for j in range(n)] for i in range(n)]\n",
        "    off_diag = [[0 if i == j else matrix[i][j] for j in range(n)] for i in range(n)]\n",
        "\n",
        "    return diag, off_diag\n",
        "\n",
        "A = [\n",
        "    [1, 2, 3],\n",
        "    [4, 5, 6],\n",
        "    [7, 8, 9]\n",
        "]\n",
        "print(\"Input Matrix:\")\n",
        "for row in A:\n",
        "    print(row)\n",
        "\n",
        "\n",
        "diag, off_diag = conformal_decomposition(A)\n",
        "\n",
        "print(\"\\nDiagonal Blocks:\")\n",
        "for row in diag:\n",
        "    print(row)\n",
        "\n",
        "print(\"\\nOff-diagonal Blocks:\")\n",
        "for row in off_diag:\n",
        "    print(row)\n"
      ]
    }
  ],
  "metadata": {
    "colab": {
      "provenance": []
    },
    "kernelspec": {
      "display_name": "Python 3",
      "name": "python3"
    },
    "language_info": {
      "name": "python"
    }
  },
  "nbformat": 4,
  "nbformat_minor": 0
}
